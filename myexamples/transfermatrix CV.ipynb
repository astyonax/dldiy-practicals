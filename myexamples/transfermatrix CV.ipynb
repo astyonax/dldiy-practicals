{
 "cells": [
  {
   "cell_type": "code",
   "execution_count": 1,
   "metadata": {
    "nbpresent": {
     "id": "9eac835c-81a1-421d-a64c-8fa58fbd10d7"
    }
   },
   "outputs": [
    {
     "name": "stdout",
     "output_type": "stream",
     "text": [
      "Populating the interactive namespace from numpy and matplotlib\n"
     ]
    }
   ],
   "source": [
    "%pylab inline\n",
    "import torch\n",
    "from torch import nn, autograd\n",
    "from torch.autograd import Variable\n",
    "try:\n",
    "    from tqdm import tqdm_notebook as tqdm\n",
    "except ImportError:\n",
    "    def tqdm(x,*arg,**kwargs):\n",
    "        return x\n",
    "#     tqdm = lambda x,:x\n",
    "    print(\"Won't be using tqdm for progress bars\")\n",
    "    \n",
    "\n",
    "import numpy as np\n",
    "import pylab as plt\n",
    "import torch.nn.init,torch.optim.lr_scheduler\n",
    "import pickle as pkl"
   ]
  },
  {
   "cell_type": "code",
   "execution_count": 36,
   "metadata": {
    "nbpresent": {
     "id": "5fbc5ba2-fd41-4044-bbe7-a212f251f84f"
    }
   },
   "outputs": [],
   "source": [
    "def Q(n=1,test_size=.4,D_in=50,seed=0,noise=0,epochs=1000,disable_loss_true=False, stop_on_gradient_test_up=False):\n",
    "    N = int((n+test_size)*D_in)\n",
    "    \n",
    "    if seed:\n",
    "        torch.manual_seed(seed)\n",
    "        np.random.seed(seed)\n",
    "        \n",
    "    W_real = torch.randn(D_in,D_in)\n",
    "    x = torch.randn(D_in,N)\n",
    "    eta = torch.randn(D_in,N)*noise\n",
    "    y = torch.matmul(W_real,x)+eta\n",
    "    # learning rate\n",
    "    lr = 1e-2\n",
    "    # define train set and test set\n",
    "    all_idx = set(np.arange(N,dtype=int))\n",
    "    test_idx = set(np.random.choice(N,int(N*test_size),replace=0))\n",
    "    train_idx = list(all_idx-test_idx)\n",
    "    test_idx  = list(test_idx)\n",
    "#     print 'test size',len(test_idx)\n",
    "#     print 'train size',len(train_idx)\n",
    "    x_test = x[:,test_idx]\n",
    "    y_test = y[:,test_idx]\n",
    "    x = x[:,train_idx]\n",
    "    y = y[:,train_idx]\n",
    "    \n",
    "    # define variables for autograd\n",
    "    x_v = Variable(x.transpose(1,0))\n",
    "    y_v = Variable(y.transpose(1,0))\n",
    "\n",
    "    x_test_v = Variable(x_test.transpose(1,0))\n",
    "    y_test_v = Variable(y_test.transpose(1,0))\n",
    "    # define a linear model (y = Wx+b)\n",
    "    model = torch.nn.Linear(D_in, D_in,bias = False)\n",
    "    params = model.parameters().next()\n",
    "    torch.nn.init.kaiming_normal(params)\n",
    "    model.weight = params\n",
    "    # loss functions\n",
    "    loss_fn = torch.nn.MSELoss(size_average=False)\n",
    "    if disable_loss_true:\n",
    "        loss_true = lambda : 0\n",
    "    else:\n",
    "        loss_true = lambda : ((model.parameters().next().data-W_real)**2).mean()**.5\n",
    "    loss_test_fn = lambda : ((model(x_test_v)-y_test_v).data**2).mean()**.5\n",
    "    # set model in train mode\n",
    "#     model.train()\n",
    "    # define the optimizer\n",
    "    optimizer = torch.optim.Adam(model.parameters(),lr=lr)\n",
    "    # max epochs\n",
    "#     epochs = 10001\n",
    "    # save losses\n",
    "    loss_yypred=np.zeros(epochs)\n",
    "    loss_wwpred=np.zeros(epochs)\n",
    "    loss_test  =np.zeros(epochs)\n",
    "    \n",
    "    if not epochs: epoch = 0\n",
    "    for epoch in range(epochs):\n",
    "        y_pred = model(x_v)\n",
    "        loss = loss_fn(y_pred, y_v)\n",
    "\n",
    "        current_loss = loss.data.numpy()[0]\n",
    "        loss_yypred[epoch] = current_loss\n",
    "        loss_wwpred[epoch] = loss_true()\n",
    "        loss_test[epoch]=loss_test_fn()\n",
    "        \n",
    "        if current_loss < 1e-4:break\n",
    "        if epoch and loss_test[epoch]>loss_test[epoch-1] and stop_on_gradient_test_up:\n",
    "            break\n",
    "            \n",
    "        # Zero gradients, perform a backward pass, and update the weights.\n",
    "        optimizer.zero_grad()\n",
    "        loss.backward()\n",
    "        optimizer.step()\n",
    "        \n",
    "        \n",
    "    return loss_yypred[:epoch],loss_wwpred[:epoch],loss_test[:epoch]#,W_real,model.parameters().next().data"
   ]
  },
  {
   "cell_type": "code",
   "execution_count": 89,
   "metadata": {
    "nbpresent": {
     "id": "8ea8b3df-f997-42a9-a97e-27f4ce8db048"
    }
   },
   "outputs": [
    {
     "name": "stdout",
     "output_type": "stream",
     "text": [
      "100 loops, best of 3: 3.12 ms per loop\n",
      "100 loops, best of 3: 3.78 ms per loop\n",
      "100 loops, best of 3: 7.53 ms per loop\n",
      "100 loops, best of 3: 13.6 ms per loop\n"
     ]
    }
   ],
   "source": [
    "%timeit _=Q(2,epochs=0)\n",
    "%timeit _=Q(2,epochs=1)\n",
    "%timeit _=Q(2,epochs=10)\n",
    "%timeit _=Q(2,epochs=20)"
   ]
  },
  {
   "cell_type": "code",
   "execution_count": 90,
   "metadata": {
    "nbpresent": {
     "id": "98d6ad8d-6995-4d84-a31a-2ea796848602"
    }
   },
   "outputs": [
    {
     "name": "stdout",
     "output_type": "stream",
     "text": [
      "0.88\n",
      "0.905\n",
      "0.9175\n",
      "--\n",
      "2.34\n",
      "0.614\n",
      "0.5805\n",
      "--\n",
      "0.66\n",
      "0.441\n",
      "0.524\n"
     ]
    }
   ],
   "source": [
    "# with matrix loss:loss_w\n",
    "print 4.03-3.15 # init time\n",
    "print (12.2-3.15)/10 # single loop in 10\n",
    "print (21.5-3.15)/20 # single looop in 20\n",
    "print '--'\n",
    "# w/o matrix loss:loss_w\n",
    "print 5.43-3.09 # init time\n",
    "print (9.23-3.09)/10 # single loop in 10\n",
    "print (14.7-3.09)/20 # single looop in 20\n",
    "print '--'\n",
    "# w/o loss CV\n",
    "print 3.78-3.12 # init time\n",
    "print (7.53-3.12)/10 # single loop in 10\n",
    "print (13.6-3.12)/20 # single looop in 20"
   ]
  },
  {
   "cell_type": "markdown",
   "metadata": {
    "nbpresent": {
     "id": "66483fbc-da15-43a0-9771-7a9c00203262"
    }
   },
   "source": [
    "**NB** I disable loss_w"
   ]
  },
  {
   "cell_type": "markdown",
   "metadata": {
    "nbpresent": {
     "id": "f71f243e-a6e8-4142-9eaa-ba0bedfecd49"
    }
   },
   "source": [
    "## N>= n, noise=0"
   ]
  },
  {
   "cell_type": "code",
   "execution_count": 98,
   "metadata": {
    "nbpresent": {
     "id": "8a0b6f2b-b666-44b3-8cf1-ee307c3452e0"
    }
   },
   "outputs": [],
   "source": [
    "loss_y,loss_w,loss_t = Q(2,epochs=25000)"
   ]
  },
  {
   "cell_type": "code",
   "execution_count": 99,
   "metadata": {
    "nbpresent": {
     "id": "561498df-9e63-4bb6-bfbd-febcf4b9cfe2"
    }
   },
   "outputs": [
    {
     "data": {
      "text/plain": [
       "<matplotlib.legend.Legend at 0x7f24d6765f50>"
      ]
     },
     "execution_count": 99,
     "metadata": {},
     "output_type": "execute_result"
    },
    {
     "data": {
      "image/png": "[encoded data removed]",
      "text/plain": [
       "<matplotlib.figure.Figure at 0x7f24d699a790>"
      ]
     },
     "metadata": {},
     "output_type": "display_data"
    }
   ],
   "source": [
    "\n",
    "plt.plot(loss_t/loss_t[0],label=\"test\")\n",
    "plt.plot(loss_y/loss_y[0],label=\"y\")\n",
    "plt.semilogx(loss_w/loss_w[0],label=\"w\")\n",
    "plt.legend()"
   ]
  },
  {
   "cell_type": "markdown",
   "metadata": {
    "nbpresent": {
     "id": "88249409-ad5c-4e68-8dda-4c10506284fe"
    }
   },
   "source": [
    "## N<n, no noise"
   ]
  },
  {
   "cell_type": "code",
   "execution_count": 45,
   "metadata": {
    "nbpresent": {
     "id": "fcba5b4d-8f1d-48b1-8795-3526b69932e5"
    }
   },
   "outputs": [],
   "source": [
    "loss_y,loss_w,loss_t = Q(.2,epochs=25000,noise=0,stop_on_gradient_test_up=1)"
   ]
  },
  {
   "cell_type": "code",
   "execution_count": 46,
   "metadata": {
    "nbpresent": {
     "id": "60e2488c-2d22-449b-b16f-1c66a05eff2b"
    }
   },
   "outputs": [
    {
     "name": "stdout",
     "output_type": "stream",
     "text": [
      "73\n"
     ]
    },
    {
     "data": {
      "text/plain": [
       "<matplotlib.legend.Legend at 0x7f939d4e6f90>"
      ]
     },
     "execution_count": 46,
     "metadata": {},
     "output_type": "execute_result"
    },
    {
     "data": {
      "image/png": "[encoded data removed]",
      "text/plain": [
       "<matplotlib.figure.Figure at 0x7f939d4b19d0>"
      ]
     },
     "metadata": {},
     "output_type": "display_data"
    }
   ],
   "source": [
    "fig,(ax,bx) = plt.subplots(2,1)\n",
    "ax.plot(loss_t/loss_t[0],label=\"test\")\n",
    "idx =np.argmin(loss_t)\n",
    "val = loss_t[idx]/loss_t[0]\n",
    "ax.scatter(idx,val,c='r')\n",
    "\n",
    "ax.plot(loss_w/loss_w[0],label=\"w\")\n",
    "idx =np.argmin(loss_w)\n",
    "val = loss_w[idx]/loss_w[0]\n",
    "ax.scatter(idx,val,c='b')\n",
    "ax.set_xlim(0,len(loss_t))\n",
    "print idx\n",
    "ax.legend()\n",
    "\n",
    "bx.semilogy(loss_y/loss_y[0],label=\"y\")\n",
    "bx.legend()"
   ]
  },
  {
   "cell_type": "code",
   "execution_count": 47,
   "metadata": {
    "nbpresent": {
     "id": "1066ce44-e7b0-4ecc-8c63-d8e9cc1705b1"
    }
   },
   "outputs": [],
   "source": [
    "def new_opt(frac,noise):\n",
    "    _,_,loss_t = Q(frac,epochs=10000,noise=noise,disable_loss_true=1,stop_on_gradient_test_up=1)\n",
    "    idx = np.argmin(loss_t)\n",
    "    val = loss_t[idx]/loss_t[0]\n",
    "    return idx,val"
   ]
  },
  {
   "cell_type": "code",
   "execution_count": 22,
   "metadata": {
    "nbpresent": {
     "id": "386675b2-f18a-49f7-94c8-e4afc0cbedc7"
    }
   },
   "outputs": [],
   "source": [
    "from concurrent import futures"
   ]
  },
  {
   "cell_type": "code",
   "execution_count": 48,
   "metadata": {
    "nbpresent": {
     "id": "940b2fd6-3c20-4d46-9fb0-34e6bdff227c"
    }
   },
   "outputs": [
    {
     "data": {
      "application/vnd.jupyter.widget-view+json": {
       "model_id": "c333bce89f7741a7bdbc28978b9e95be",
       "version_major": 2,
       "version_minor": 0
      },
      "text/html": [
       "<p>Failed to display Jupyter Widget of type <code>HBox</code>.</p>\n",
       "<p>\n",
       "  If you're reading this message in the Jupyter Notebook or JupyterLab Notebook, it may mean\n",
       "  that the widgets JavaScript is still loading. If this message persists, it\n",
       "  likely means that the widgets JavaScript library is either not installed or\n",
       "  not enabled. See the <a href=\"https://ipywidgets.readthedocs.io/en/stable/user_install.html\">Jupyter\n",
       "  Widgets Documentation</a> for setup instructions.\n",
       "</p>\n",
       "<p>\n",
       "  If you're reading this message in another frontend (for example, a static\n",
       "  rendering on GitHub or <a href=\"https://nbviewer.jupyter.org/\">NBViewer</a>),\n",
       "  it may mean that your frontend doesn't currently support widgets.\n",
       "</p>\n"
      ],
      "text/plain": [
       "HBox(children=(IntProgress(value=0, max=150), HTML(value=u'')))"
      ]
     },
     "metadata": {},
     "output_type": "display_data"
    },
    {
     "name": "stdout",
     "output_type": "stream",
     "text": [
      "\n"
     ]
    }
   ],
   "source": [
    "# from functools import partial\n",
    "\n",
    "# with futures.ProcessPoolExecutor(max_workers=3) as Pool:\n",
    "stuff = [new_opt(.2,0) for _ in tqdm(range(150))]\n",
    "    "
   ]
  },
  {
   "cell_type": "code",
   "execution_count": 49,
   "metadata": {
    "nbpresent": {
     "id": "a53f9dc9-eefa-49a5-b2fa-01bae0b19f00"
    }
   },
   "outputs": [
    {
     "data": {
      "image/png": "[encoded data removed]",
      "text/plain": [
       "<matplotlib.figure.Figure at 0x7f939c4b27d0>"
      ]
     },
     "metadata": {},
     "output_type": "display_data"
    },
    {
     "data": {
      "image/png": "[encoded data removed]",
      "text/plain": [
       "<matplotlib.figure.Figure at 0x7f939c4b2a10>"
      ]
     },
     "metadata": {},
     "output_type": "display_data"
    }
   ],
   "source": [
    "plt.hist(np.asarray(stuff)[:,0],bins=50);\n",
    "plt.figure()\n",
    "plt.hist(np.asarray(stuff)[:,1],bins=np.arange(0,1,.02));"
   ]
  },
  {
   "cell_type": "code",
   "execution_count": 51,
   "metadata": {
    "nbpresent": {
     "id": "ac74a5ba-5b64-4f0c-a3f2-5483363d3fc3"
    }
   },
   "outputs": [
    {
     "data": {
      "application/vnd.jupyter.widget-view+json": {
       "model_id": "619d045010c14713bf0f21af4a5ef004",
       "version_major": 2,
       "version_minor": 0
      },
      "text/html": [
       "<p>Failed to display Jupyter Widget of type <code>HBox</code>.</p>\n",
       "<p>\n",
       "  If you're reading this message in the Jupyter Notebook or JupyterLab Notebook, it may mean\n",
       "  that the widgets JavaScript is still loading. If this message persists, it\n",
       "  likely means that the widgets JavaScript library is either not installed or\n",
       "  not enabled. See the <a href=\"https://ipywidgets.readthedocs.io/en/stable/user_install.html\">Jupyter\n",
       "  Widgets Documentation</a> for setup instructions.\n",
       "</p>\n",
       "<p>\n",
       "  If you're reading this message in another frontend (for example, a static\n",
       "  rendering on GitHub or <a href=\"https://nbviewer.jupyter.org/\">NBViewer</a>),\n",
       "  it may mean that your frontend doesn't currently support widgets.\n",
       "</p>\n"
      ],
      "text/plain": [
       "HBox(children=(IntProgress(value=0, max=150), HTML(value=u'')))"
      ]
     },
     "metadata": {},
     "output_type": "display_data"
    },
    {
     "name": "stdout",
     "output_type": "stream",
     "text": [
      "\n"
     ]
    }
   ],
   "source": [
    "stuff_noise = [new_opt(.2,1) for _ in tqdm(range(150))]"
   ]
  },
  {
   "cell_type": "code",
   "execution_count": 52,
   "metadata": {
    "nbpresent": {
     "id": "8fe6e4cf-b9b3-4994-9d75-21d9fc937db3"
    }
   },
   "outputs": [
    {
     "data": {
      "image/png": "[encoded data removed]",
      "text/plain": [
       "<matplotlib.figure.Figure at 0x7f938f3c7fd0>"
      ]
     },
     "metadata": {},
     "output_type": "display_data"
    },
    {
     "data": {
      "image/png": "[encoded data removed]",
      "text/plain": [
       "<matplotlib.figure.Figure at 0x7f939d125550>"
      ]
     },
     "metadata": {},
     "output_type": "display_data"
    }
   ],
   "source": [
    "plt.hist(np.asarray(stuff_noise)[:,0],bins=50);\n",
    "plt.figure()\n",
    "plt.hist(np.asarray(stuff_noise)[:,1],bins=np.arange(0,1,.02));"
   ]
  },
  {
   "cell_type": "code",
   "execution_count": 55,
   "metadata": {
    "nbpresent": {
     "id": "c73b6221-5821-4025-a850-0d1147e88b87"
    }
   },
   "outputs": [
    {
     "data": {
      "application/vnd.jupyter.widget-view+json": {
       "model_id": "93b5ddc8861041c9bd28e721429f66ba",
       "version_major": 2,
       "version_minor": 0
      },
      "text/html": [
       "<p>Failed to display Jupyter Widget of type <code>HBox</code>.</p>\n",
       "<p>\n",
       "  If you're reading this message in the Jupyter Notebook or JupyterLab Notebook, it may mean\n",
       "  that the widgets JavaScript is still loading. If this message persists, it\n",
       "  likely means that the widgets JavaScript library is either not installed or\n",
       "  not enabled. See the <a href=\"https://ipywidgets.readthedocs.io/en/stable/user_install.html\">Jupyter\n",
       "  Widgets Documentation</a> for setup instructions.\n",
       "</p>\n",
       "<p>\n",
       "  If you're reading this message in another frontend (for example, a static\n",
       "  rendering on GitHub or <a href=\"https://nbviewer.jupyter.org/\">NBViewer</a>),\n",
       "  it may mean that your frontend doesn't currently support widgets.\n",
       "</p>\n"
      ],
      "text/plain": [
       "HBox(children=(IntProgress(value=0), HTML(value=u'')))"
      ]
     },
     "metadata": {},
     "output_type": "display_data"
    },
    {
     "name": "stdout",
     "output_type": "stream",
     "text": [
      "\n"
     ]
    }
   ],
   "source": [
    "stuff_2 = [new_opt(1.4,1) for _ in tqdm(range(100))]"
   ]
  },
  {
   "cell_type": "code",
   "execution_count": 57,
   "metadata": {
    "nbpresent": {
     "id": "5187b131-2eae-4eda-bad4-99096902adef"
    }
   },
   "outputs": [
    {
     "data": {
      "image/png": "[encoded data removed]",
      "text/plain": [
       "<matplotlib.figure.Figure at 0x7f938eff10d0>"
      ]
     },
     "metadata": {},
     "output_type": "display_data"
    },
    {
     "data": {
      "image/png": "[encoded data removed]",
      "text/plain": [
       "<matplotlib.figure.Figure at 0x7f938eff1490>"
      ]
     },
     "metadata": {},
     "output_type": "display_data"
    }
   ],
   "source": [
    "plt.hist(np.asarray(stuff_2)[:,0],bins=50);\n",
    "plt.figure()\n",
    "plt.hist(np.asarray(stuff_2)[:,1],bins=np.arange(0,1,.02));"
   ]
  },
  {
   "cell_type": "code",
   "execution_count": 60,
   "metadata": {
    "nbpresent": {
     "id": "ec9ad528-6fbc-42b1-b30f-037628b41791"
    }
   },
   "outputs": [
    {
     "data": {
      "text/plain": [
       "array([  1.23207000e+03,   3.89565462e-01])"
      ]
     },
     "execution_count": 60,
     "metadata": {},
     "output_type": "execute_result"
    }
   ],
   "source": [
    "np.asarray(stuff_2).mean(axis=0)"
   ]
  },
  {
   "cell_type": "markdown",
   "metadata": {
    "nbpresent": {
     "id": "1613e0ed-52af-4856-96ed-23bc57e8d88a"
    }
   },
   "source": [
    "## So.."
   ]
  },
  {
   "cell_type": "code",
   "execution_count": 83,
   "metadata": {
    "nbpresent": {
     "id": "226fc6f6-f62c-4eb0-b65d-da718d5655d8"
    }
   },
   "outputs": [],
   "source": [
    "def new_opt(frac,noise):\n",
    "    _,_,loss_t = Q(frac,epochs=10000,noise=noise,disable_loss_true=1,stop_on_gradient_test_up=1)\n",
    "    idx = np.argmin(loss_t)\n",
    "    val = loss_t[idx]\n",
    "    return idx,val\n",
    "\n",
    "def horse(frac,noise,N):\n",
    "    stuff = np.asarray([new_opt(frac,noise) for _ in range(N)])\n",
    "    return stuff.mean(axis=0),stuff.std(axis=0)"
   ]
  },
  {
   "cell_type": "code",
   "execution_count": 84,
   "metadata": {
    "nbpresent": {
     "id": "df002aea-5c1f-4b72-b309-5faf581fef39"
    }
   },
   "outputs": [
    {
     "data": {
      "text/plain": [
       "(array([ 106.8       ,    6.31773094]), array([ 20.90358821,   0.20553935]))"
      ]
     },
     "execution_count": 84,
     "metadata": {},
     "output_type": "execute_result"
    }
   ],
   "source": [
    "horse(.2,1,10)"
   ]
  },
  {
   "cell_type": "code",
   "execution_count": 86,
   "metadata": {
    "nbpresent": {
     "id": "5697b2fa-4462-47ee-b093-9bce4df339ff"
    }
   },
   "outputs": [
    {
     "data": {
      "application/vnd.jupyter.widget-view+json": {
       "model_id": "978510999b7b416686f205212d8a9a22",
       "version_major": 2,
       "version_minor": 0
      },
      "text/html": [
       "<p>Failed to display Jupyter Widget of type <code>HBox</code>.</p>\n",
       "<p>\n",
       "  If you're reading this message in the Jupyter Notebook or JupyterLab Notebook, it may mean\n",
       "  that the widgets JavaScript is still loading. If this message persists, it\n",
       "  likely means that the widgets JavaScript library is either not installed or\n",
       "  not enabled. See the <a href=\"https://ipywidgets.readthedocs.io/en/stable/user_install.html\">Jupyter\n",
       "  Widgets Documentation</a> for setup instructions.\n",
       "</p>\n",
       "<p>\n",
       "  If you're reading this message in another frontend (for example, a static\n",
       "  rendering on GitHub or <a href=\"https://nbviewer.jupyter.org/\">NBViewer</a>),\n",
       "  it may mean that your frontend doesn't currently support widgets.\n",
       "</p>\n"
      ],
      "text/plain": [
       "HBox(children=(IntProgress(value=0, max=8), HTML(value=u'')))"
      ]
     },
     "metadata": {},
     "output_type": "display_data"
    },
    {
     "name": "stdout",
     "output_type": "stream",
     "text": [
      "\n"
     ]
    },
    {
     "data": {
      "application/vnd.jupyter.widget-view+json": {
       "model_id": "dca46c59a08647c98963fc69edcb876f",
       "version_major": 2,
       "version_minor": 0
      },
      "text/html": [
       "<p>Failed to display Jupyter Widget of type <code>HBox</code>.</p>\n",
       "<p>\n",
       "  If you're reading this message in the Jupyter Notebook or JupyterLab Notebook, it may mean\n",
       "  that the widgets JavaScript is still loading. If this message persists, it\n",
       "  likely means that the widgets JavaScript library is either not installed or\n",
       "  not enabled. See the <a href=\"https://ipywidgets.readthedocs.io/en/stable/user_install.html\">Jupyter\n",
       "  Widgets Documentation</a> for setup instructions.\n",
       "</p>\n",
       "<p>\n",
       "  If you're reading this message in another frontend (for example, a static\n",
       "  rendering on GitHub or <a href=\"https://nbviewer.jupyter.org/\">NBViewer</a>),\n",
       "  it may mean that your frontend doesn't currently support widgets.\n",
       "</p>\n"
      ],
      "text/plain": [
       "HBox(children=(IntProgress(value=0, max=8), HTML(value=u'')))"
      ]
     },
     "metadata": {},
     "output_type": "display_data"
    },
    {
     "name": "stdout",
     "output_type": "stream",
     "text": [
      "\n"
     ]
    },
    {
     "data": {
      "application/vnd.jupyter.widget-view+json": {
       "model_id": "5d84c2ff08484c8fa511c4bc9422320a",
       "version_major": 2,
       "version_minor": 0
      },
      "text/html": [
       "<p>Failed to display Jupyter Widget of type <code>HBox</code>.</p>\n",
       "<p>\n",
       "  If you're reading this message in the Jupyter Notebook or JupyterLab Notebook, it may mean\n",
       "  that the widgets JavaScript is still loading. If this message persists, it\n",
       "  likely means that the widgets JavaScript library is either not installed or\n",
       "  not enabled. See the <a href=\"https://ipywidgets.readthedocs.io/en/stable/user_install.html\">Jupyter\n",
       "  Widgets Documentation</a> for setup instructions.\n",
       "</p>\n",
       "<p>\n",
       "  If you're reading this message in another frontend (for example, a static\n",
       "  rendering on GitHub or <a href=\"https://nbviewer.jupyter.org/\">NBViewer</a>),\n",
       "  it may mean that your frontend doesn't currently support widgets.\n",
       "</p>\n"
      ],
      "text/plain": [
       "HBox(children=(IntProgress(value=0, max=8), HTML(value=u'')))"
      ]
     },
     "metadata": {},
     "output_type": "display_data"
    },
    {
     "name": "stdout",
     "output_type": "stream",
     "text": [
      "\n"
     ]
    },
    {
     "data": {
      "text/plain": [
       "<matplotlib.text.Text at 0x7f938f5f5f10>"
      ]
     },
     "execution_count": 86,
     "metadata": {},
     "output_type": "execute_result"
    },
    {
     "data": {
      "image/png": "[encoded data removed]",
      "text/plain": [
       "<matplotlib.figure.Figure at 0x7f938f1db5d0>"
      ]
     },
     "metadata": {},
     "output_type": "display_data"
    }
   ],
   "source": [
    "fracs = [.1,.25,.5,.75,1.,1.3,1.4,2.]\n",
    "noise = [0,.5,1.]\n",
    "N = 5\n",
    "for n in noise:\n",
    "    val4frac= []\n",
    "    std4frac= []\n",
    "    for f in tqdm(fracs):\n",
    "        (_,val),(_,stdval)=horse(f,n,N)\n",
    "        val4frac.append(val)\n",
    "        std4frac.append(stdval)\n",
    "    plt.errorbar(fracs,val4frac,yerr=std4frac,label=str(n))\n",
    "    \n",
    "plt.legend()\n",
    "plt.xlabel('a fraction of N (100%@1.4)')\n",
    "plt.ylabel('mean error on test (as in CV)')"
   ]
  },
  {
   "cell_type": "code",
   "execution_count": null,
   "metadata": {
    "nbpresent": {
     "id": "bc0ef2fa-7e44-457e-9b63-ef78b6229ff3"
    }
   },
   "outputs": [],
   "source": []
  }
 ],
 "metadata": {
  "kernelspec": {
   "display_name": "Python [default]",
   "language": "python",
   "name": "python2"
  },
  "language_info": {
   "codemirror_mode": {
    "name": "ipython",
    "version": 2
   },
   "file_extension": ".py",
   "mimetype": "text/x-python",
   "name": "python",
   "nbconvert_exporter": "python",
   "pygments_lexer": "ipython2",
   "version": "2.7.14"
  }
 },
 "nbformat": 4,
 "nbformat_minor": 2
}
