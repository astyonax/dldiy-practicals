{
 "cells": [
  {
   "cell_type": "markdown",
   "metadata": {},
   "source": [
    "# Recap on collaborative filtering\n",
    "\n"
   ]
  },
  {
   "cell_type": "code",
   "execution_count": 36,
   "metadata": {
    "collapsed": true
   },
   "outputs": [],
   "source": [
    "%matplotlib inline\n",
    "import matplotlib.pyplot as plt\n",
    "import numpy as np\n",
    "import os.path as op\n",
    "\n",
    "from zipfile import ZipFile\n",
    "try:\n",
    "    from urllib.request import urlretrieve\n",
    "except ImportError:  # Python 2 compat\n",
    "    from urllib import urlretrieve\n",
    "\n",
    "# this line need to be changed:\n",
    "data_folder = '/home/lelarge/courses/data/'\n",
    "\n",
    "ML_100K_URL = \"http://files.grouplens.org/datasets/movielens/ml-100k.zip\"\n",
    "# dataset for exercise: ML_100K_URL = \"http://files.grouplens.org/datasets/movielens/ml-latest-small.zip\"\n",
    "ML_100K_FILENAME = op.join(data_folder,ML_100K_URL.rsplit('/', 1)[1])\n",
    "ML_100K_FOLDER = op.join(data_folder,'ml-100k')\n",
    "# for exercise: ML_100K_FOLDER = op.join(data_folder,'ml-latest-small')\n",
    "\n",
    "if not op.exists(ML_100K_FILENAME):\n",
    "    print('Downloading %s to %s...' % (ML_100K_URL, ML_100K_FILENAME))\n",
    "    urlretrieve(ML_100K_URL, ML_100K_FILENAME)\n",
    "\n",
    "if not op.exists(ML_100K_FOLDER):\n",
    "    print('Extracting %s to %s...' % (ML_100K_FILENAME, ML_100K_FOLDER))\n",
    "    ZipFile(ML_100K_FILENAME).extractall(data_folder)"
   ]
  },
  {
   "cell_type": "code",
   "execution_count": 38,
   "metadata": {},
   "outputs": [
    {
     "data": {
      "text/html": [
       "<div>\n",
       "<style>\n",
       "    .dataframe thead tr:only-child th {\n",
       "        text-align: right;\n",
       "    }\n",
       "\n",
       "    .dataframe thead th {\n",
       "        text-align: left;\n",
       "    }\n",
       "\n",
       "    .dataframe tbody tr th {\n",
       "        vertical-align: top;\n",
       "    }\n",
       "</style>\n",
       "<table border=\"1\" class=\"dataframe\">\n",
       "  <thead>\n",
       "    <tr style=\"text-align: right;\">\n",
       "      <th></th>\n",
       "      <th>user_id</th>\n",
       "      <th>item_id</th>\n",
       "      <th>ratings</th>\n",
       "      <th>timestamp</th>\n",
       "    </tr>\n",
       "  </thead>\n",
       "  <tbody>\n",
       "    <tr>\n",
       "      <th>0</th>\n",
       "      <td>196</td>\n",
       "      <td>242</td>\n",
       "      <td>3</td>\n",
       "      <td>881250949</td>\n",
       "    </tr>\n",
       "    <tr>\n",
       "      <th>1</th>\n",
       "      <td>186</td>\n",
       "      <td>302</td>\n",
       "      <td>3</td>\n",
       "      <td>891717742</td>\n",
       "    </tr>\n",
       "    <tr>\n",
       "      <th>2</th>\n",
       "      <td>22</td>\n",
       "      <td>377</td>\n",
       "      <td>1</td>\n",
       "      <td>878887116</td>\n",
       "    </tr>\n",
       "    <tr>\n",
       "      <th>3</th>\n",
       "      <td>244</td>\n",
       "      <td>51</td>\n",
       "      <td>2</td>\n",
       "      <td>880606923</td>\n",
       "    </tr>\n",
       "    <tr>\n",
       "      <th>4</th>\n",
       "      <td>166</td>\n",
       "      <td>346</td>\n",
       "      <td>1</td>\n",
       "      <td>886397596</td>\n",
       "    </tr>\n",
       "  </tbody>\n",
       "</table>\n",
       "</div>"
      ],
      "text/plain": [
       "   user_id  item_id  ratings  timestamp\n",
       "0      196      242        3  881250949\n",
       "1      186      302        3  891717742\n",
       "2       22      377        1  878887116\n",
       "3      244       51        2  880606923\n",
       "4      166      346        1  886397596"
      ]
     },
     "execution_count": 38,
     "metadata": {},
     "output_type": "execute_result"
    }
   ],
   "source": [
    "import pandas as pd\n",
    "\n",
    "all_ratings = pd.read_csv(op.join(ML_100K_FOLDER, 'u.data'), sep='\\t',\n",
    "                          names=[\"user_id\", \"item_id\", \"ratings\", \"timestamp\"])\n",
    "#all_ratings = pd.read_csv(op.join(ML_100K_FOLDER, 'ratings.csv'), names=[\"user_id\", \"item_id\", \"ratings\", \"timestamp\"])\n",
    "#all_ratings = all_ratings.iloc[1:]\n",
    "all_ratings.head()"
   ]
  },
  {
   "cell_type": "code",
   "execution_count": 39,
   "metadata": {
    "collapsed": true
   },
   "outputs": [],
   "source": [
    "# number of unique users\n",
    "total_user_id = len(all_ratings['user_id'].unique())\n",
    "# number of unique rated items\n",
    "total_item_id = len(all_ratings['item_id'].unique())"
   ]
  },
  {
   "cell_type": "code",
   "execution_count": 40,
   "metadata": {},
   "outputs": [
    {
     "name": "stdout",
     "output_type": "stream",
     "text": [
      "943 1682\n"
     ]
    }
   ],
   "source": [
    "print(total_user_id,total_item_id)"
   ]
  },
  {
   "cell_type": "code",
   "execution_count": 41,
   "metadata": {
    "collapsed": true
   },
   "outputs": [],
   "source": [
    "from sklearn.model_selection import train_test_split\n",
    "\n",
    "ratings_train, ratings_test = train_test_split(\n",
    "    all_ratings, test_size=0.2, random_state=42)\n",
    "\n",
    "user_id_train = ratings_train['user_id']\n",
    "item_id_train = ratings_train['item_id']\n",
    "rating_train = ratings_train['ratings']\n",
    "\n",
    "user_id_test = ratings_test['user_id']\n",
    "item_id_test = ratings_test['item_id']\n",
    "rating_test = ratings_test['ratings']"
   ]
  },
  {
   "cell_type": "code",
   "execution_count": 42,
   "metadata": {},
   "outputs": [
    {
     "data": {
      "text/plain": [
       "80000"
      ]
     },
     "execution_count": 42,
     "metadata": {},
     "output_type": "execute_result"
    }
   ],
   "source": [
    "len(user_id_train)"
   ]
  },
  {
   "cell_type": "code",
   "execution_count": 43,
   "metadata": {
    "collapsed": true
   },
   "outputs": [],
   "source": [
    "user_ids_train_np = user_id_train.as_matrix().astype(np.int32)\n",
    "item_ids_train_np = item_id_train.as_matrix().astype(np.int32)\n",
    "ratings_train_np = rating_train.as_matrix().astype(np.float32)\n",
    "user_ids_test_np = user_id_test.as_matrix().astype(np.int32)\n",
    "item_ids_test_np = item_id_test.as_matrix().astype(np.int32)\n",
    "ratings_test_np = rating_test.as_matrix().astype(np.float32)"
   ]
  },
  {
   "cell_type": "markdown",
   "metadata": {},
   "source": [
    "# 1. Latent factors"
   ]
  },
  {
   "cell_type": "code",
   "execution_count": 46,
   "metadata": {
    "collapsed": true
   },
   "outputs": [],
   "source": [
    "import imp\n",
    "import torch\n",
    "import ExplicitFactorizationModel; imp.reload(ExplicitFactorizationModel)\n",
    "from ExplicitFactorizationModel import ExplicitFactorizationModel\n",
    "from torch_utils import l1_loss\n",
    "\n",
    "model = ExplicitFactorizationModel(embedding_dim=128,  # latent dimensionality\n",
    "                                   n_iter=10,  # number of epochs of training\n",
    "                                   batch_size=1024,  # minibatch size\n",
    "                                   learning_rate=1e-3,\n",
    "                                   l2=1e-9,  # strength of L2 regularization\n",
    "                                   use_cuda=torch.cuda.is_available(),\n",
    "                                   num_users=total_user_id+1,\n",
    "                                   num_items=total_item_id+1,\n",
    "                                  loss = l1_loss)"
   ]
  },
  {
   "cell_type": "code",
   "execution_count": 47,
   "metadata": {},
   "outputs": [
    {
     "name": "stdout",
     "output_type": "stream",
     "text": [
      "Epoch 0: train loss 3.433351634423944 validation loss 3.1805217266082764\n",
      "Epoch 1: train loss 2.2792865535880944 validation loss 1.2223896980285645\n",
      "Epoch 2: train loss 0.9320487727092791 validation loss 0.8157238960266113\n",
      "Epoch 3: train loss 0.7758862595014935 validation loss 0.767008364200592\n",
      "Epoch 4: train loss 0.7447243544119823 validation loss 0.7544935941696167\n",
      "Epoch 5: train loss 0.7322373095946976 validation loss 0.7485127449035645\n",
      "Epoch 6: train loss 0.7251424193382263 validation loss 0.7453478574752808\n",
      "Epoch 7: train loss 0.7205137791512888 validation loss 0.7440184950828552\n",
      "Epoch 8: train loss 0.7166207410112212 validation loss 0.7419171929359436\n",
      "Epoch 9: train loss 0.7123639787299724 validation loss 0.7399391531944275\n"
     ]
    }
   ],
   "source": [
    "model.fit(user_ids_train_np, item_ids_train_np, ratings_train_np,\n",
    "          user_ids_test_np, item_ids_test_np, ratings_test_np)"
   ]
  },
  {
   "cell_type": "markdown",
   "metadata": {},
   "source": [
    "# 2. Analyze results"
   ]
  },
  {
   "cell_type": "markdown",
   "metadata": {},
   "source": [
    "We will use standard ML tools to interpret the embeddings found by our algorithm. We first need to retrive the weights of these embedding in a numpy format."
   ]
  },
  {
   "cell_type": "code",
   "execution_count": 48,
   "metadata": {
    "collapsed": true
   },
   "outputs": [],
   "source": [
    "user_emb_np = model._net.user_embeddings.weight.data.numpy()\n",
    "item_emb_np = model._net.item_embeddings.weight.data.numpy()"
   ]
  },
  {
   "cell_type": "code",
   "execution_count": 69,
   "metadata": {},
   "outputs": [
    {
     "data": {
      "text/html": [
       "<div>\n",
       "<style>\n",
       "    .dataframe thead tr:only-child th {\n",
       "        text-align: right;\n",
       "    }\n",
       "\n",
       "    .dataframe thead th {\n",
       "        text-align: left;\n",
       "    }\n",
       "\n",
       "    .dataframe tbody tr th {\n",
       "        vertical-align: top;\n",
       "    }\n",
       "</style>\n",
       "<table border=\"1\" class=\"dataframe\">\n",
       "  <thead>\n",
       "    <tr style=\"text-align: right;\">\n",
       "      <th></th>\n",
       "      <th>item_name</th>\n",
       "    </tr>\n",
       "    <tr>\n",
       "      <th>item_id</th>\n",
       "      <th></th>\n",
       "    </tr>\n",
       "  </thead>\n",
       "  <tbody>\n",
       "    <tr>\n",
       "      <th>1</th>\n",
       "      <td>Toy Story (1995)</td>\n",
       "    </tr>\n",
       "    <tr>\n",
       "      <th>2</th>\n",
       "      <td>GoldenEye (1995)</td>\n",
       "    </tr>\n",
       "    <tr>\n",
       "      <th>3</th>\n",
       "      <td>Four Rooms (1995)</td>\n",
       "    </tr>\n",
       "    <tr>\n",
       "      <th>4</th>\n",
       "      <td>Get Shorty (1995)</td>\n",
       "    </tr>\n",
       "    <tr>\n",
       "      <th>5</th>\n",
       "      <td>Copycat (1995)</td>\n",
       "    </tr>\n",
       "  </tbody>\n",
       "</table>\n",
       "</div>"
      ],
      "text/plain": [
       "                 item_name\n",
       "item_id                   \n",
       "1         Toy Story (1995)\n",
       "2         GoldenEye (1995)\n",
       "3        Four Rooms (1995)\n",
       "4        Get Shorty (1995)\n",
       "5           Copycat (1995)"
      ]
     },
     "execution_count": 69,
     "metadata": {},
     "output_type": "execute_result"
    }
   ],
   "source": [
    "df = pd.read_csv(op.join(ML_100K_FOLDER, 'u.item'), sep='|', names=['item_id', 'item_name','date','','','','','','','','','','','','','','','','','','','','',''],encoding = \"ISO-8859-1\")\n",
    "movies_names = df.loc[:,['item_id', 'item_name']]\n",
    "movies_names = movies_names.set_index(['item_id'])\n",
    "movies_names.head()"
   ]
  },
  {
   "cell_type": "code",
   "execution_count": 70,
   "metadata": {},
   "outputs": [
    {
     "data": {
      "text/html": [
       "<div>\n",
       "<style>\n",
       "    .dataframe thead tr:only-child th {\n",
       "        text-align: right;\n",
       "    }\n",
       "\n",
       "    .dataframe thead th {\n",
       "        text-align: left;\n",
       "    }\n",
       "\n",
       "    .dataframe tbody tr th {\n",
       "        vertical-align: top;\n",
       "    }\n",
       "</style>\n",
       "<table border=\"1\" class=\"dataframe\">\n",
       "  <thead>\n",
       "    <tr style=\"text-align: right;\">\n",
       "      <th></th>\n",
       "      <th>item_name</th>\n",
       "      <th>biases</th>\n",
       "    </tr>\n",
       "    <tr>\n",
       "      <th>item_id</th>\n",
       "      <th></th>\n",
       "      <th></th>\n",
       "    </tr>\n",
       "  </thead>\n",
       "  <tbody>\n",
       "    <tr>\n",
       "      <th>1</th>\n",
       "      <td>Toy Story (1995)</td>\n",
       "      <td>0.144332</td>\n",
       "    </tr>\n",
       "    <tr>\n",
       "      <th>2</th>\n",
       "      <td>GoldenEye (1995)</td>\n",
       "      <td>0.104207</td>\n",
       "    </tr>\n",
       "    <tr>\n",
       "      <th>3</th>\n",
       "      <td>Four Rooms (1995)</td>\n",
       "      <td>0.108118</td>\n",
       "    </tr>\n",
       "    <tr>\n",
       "      <th>4</th>\n",
       "      <td>Get Shorty (1995)</td>\n",
       "      <td>0.132367</td>\n",
       "    </tr>\n",
       "    <tr>\n",
       "      <th>5</th>\n",
       "      <td>Copycat (1995)</td>\n",
       "      <td>0.122503</td>\n",
       "    </tr>\n",
       "  </tbody>\n",
       "</table>\n",
       "</div>"
      ],
      "text/plain": [
       "                 item_name    biases\n",
       "item_id                             \n",
       "1         Toy Story (1995)  0.144332\n",
       "2         GoldenEye (1995)  0.104207\n",
       "3        Four Rooms (1995)  0.108118\n",
       "4        Get Shorty (1995)  0.132367\n",
       "5           Copycat (1995)  0.122503"
      ]
     },
     "execution_count": 70,
     "metadata": {},
     "output_type": "execute_result"
    }
   ],
   "source": [
    "item_bias_np = model._net.item_biases.weight.data.numpy()\n",
    "movies_names['biases'] = pd.Series(item_bias_np[1:].T[0], index=movies_names.index)\n",
    "movies_names.head()"
   ]
  },
  {
   "cell_type": "code",
   "execution_count": 97,
   "metadata": {},
   "outputs": [
    {
     "data": {
      "text/plain": [
       "'Return of the Jedi (1983)'"
      ]
     },
     "execution_count": 97,
     "metadata": {},
     "output_type": "execute_result"
    }
   ],
   "source": [
    "movies_names.loc[181,'item_name']"
   ]
  },
  {
   "cell_type": "code",
   "execution_count": 75,
   "metadata": {},
   "outputs": [
    {
     "data": {
      "text/plain": [
       "(1682, 2)"
      ]
     },
     "execution_count": 75,
     "metadata": {},
     "output_type": "execute_result"
    }
   ],
   "source": [
    "movies_names.shape"
   ]
  },
  {
   "cell_type": "code",
   "execution_count": 76,
   "metadata": {},
   "outputs": [
    {
     "data": {
      "text/plain": [
       "(1653, 2)"
      ]
     },
     "execution_count": 76,
     "metadata": {},
     "output_type": "execute_result"
    }
   ],
   "source": [
    "indices_item_train = np.sort(item_id_train.unique())\n",
    "movies_names = movies_names.loc[indices_item_train]\n",
    "movies_names.shape"
   ]
  },
  {
   "cell_type": "code",
   "execution_count": 77,
   "metadata": {},
   "outputs": [
    {
     "data": {
      "text/html": [
       "<div>\n",
       "<style>\n",
       "    .dataframe thead tr:only-child th {\n",
       "        text-align: right;\n",
       "    }\n",
       "\n",
       "    .dataframe thead th {\n",
       "        text-align: left;\n",
       "    }\n",
       "\n",
       "    .dataframe tbody tr th {\n",
       "        vertical-align: top;\n",
       "    }\n",
       "</style>\n",
       "<table border=\"1\" class=\"dataframe\">\n",
       "  <thead>\n",
       "    <tr style=\"text-align: right;\">\n",
       "      <th></th>\n",
       "      <th>item_name</th>\n",
       "      <th>biases</th>\n",
       "    </tr>\n",
       "    <tr>\n",
       "      <th>item_id</th>\n",
       "      <th></th>\n",
       "      <th></th>\n",
       "    </tr>\n",
       "  </thead>\n",
       "  <tbody>\n",
       "    <tr>\n",
       "      <th>1449</th>\n",
       "      <td>Pather Panchali (1955)</td>\n",
       "      <td>0.193085</td>\n",
       "    </tr>\n",
       "    <tr>\n",
       "      <th>318</th>\n",
       "      <td>Schindler's List (1993)</td>\n",
       "      <td>0.184110</td>\n",
       "    </tr>\n",
       "    <tr>\n",
       "      <th>50</th>\n",
       "      <td>Star Wars (1977)</td>\n",
       "      <td>0.183018</td>\n",
       "    </tr>\n",
       "    <tr>\n",
       "      <th>313</th>\n",
       "      <td>Titanic (1997)</td>\n",
       "      <td>0.181763</td>\n",
       "    </tr>\n",
       "    <tr>\n",
       "      <th>302</th>\n",
       "      <td>L.A. Confidential (1997)</td>\n",
       "      <td>0.180590</td>\n",
       "    </tr>\n",
       "    <tr>\n",
       "      <th>408</th>\n",
       "      <td>Close Shave, A (1995)</td>\n",
       "      <td>0.173482</td>\n",
       "    </tr>\n",
       "    <tr>\n",
       "      <th>98</th>\n",
       "      <td>Silence of the Lambs, The (1991)</td>\n",
       "      <td>0.172756</td>\n",
       "    </tr>\n",
       "    <tr>\n",
       "      <th>1367</th>\n",
       "      <td>Faust (1994)</td>\n",
       "      <td>0.172586</td>\n",
       "    </tr>\n",
       "    <tr>\n",
       "      <th>258</th>\n",
       "      <td>Contact (1997)</td>\n",
       "      <td>0.172082</td>\n",
       "    </tr>\n",
       "    <tr>\n",
       "      <th>64</th>\n",
       "      <td>Shawshank Redemption, The (1994)</td>\n",
       "      <td>0.171830</td>\n",
       "    </tr>\n",
       "  </tbody>\n",
       "</table>\n",
       "</div>"
      ],
      "text/plain": [
       "                                item_name    biases\n",
       "item_id                                            \n",
       "1449               Pather Panchali (1955)  0.193085\n",
       "318               Schindler's List (1993)  0.184110\n",
       "50                       Star Wars (1977)  0.183018\n",
       "313                        Titanic (1997)  0.181763\n",
       "302              L.A. Confidential (1997)  0.180590\n",
       "408                 Close Shave, A (1995)  0.173482\n",
       "98       Silence of the Lambs, The (1991)  0.172756\n",
       "1367                         Faust (1994)  0.172586\n",
       "258                        Contact (1997)  0.172082\n",
       "64       Shawshank Redemption, The (1994)  0.171830"
      ]
     },
     "execution_count": 77,
     "metadata": {},
     "output_type": "execute_result"
    }
   ],
   "source": [
    "movies_names = movies_names.sort_values(ascending=False,by=['biases'])\n",
    "movies_names.head(10)"
   ]
  },
  {
   "cell_type": "code",
   "execution_count": 78,
   "metadata": {
    "collapsed": true
   },
   "outputs": [],
   "source": [
    "from sklearn.decomposition import PCA\n",
    "pca = PCA(n_components=3)\n",
    "movie_pca = pca.fit(item_emb_np.T).components_"
   ]
  },
  {
   "cell_type": "code",
   "execution_count": 79,
   "metadata": {
    "collapsed": true
   },
   "outputs": [],
   "source": [
    "fac0 = movie_pca[0]"
   ]
  },
  {
   "cell_type": "code",
   "execution_count": 80,
   "metadata": {
    "collapsed": true
   },
   "outputs": [],
   "source": [
    "item_comp = [(f, movies_names.loc[i,'item_name']) for f,i in zip(fac0, indices_item_train)]"
   ]
  },
  {
   "cell_type": "code",
   "execution_count": 81,
   "metadata": {},
   "outputs": [
    {
     "data": {
      "text/plain": [
       "[(-0.039170924812999178, 'Love Is All There Is (1996)'),\n",
       " (-0.036591398253310543, 'Jack (1996)'),\n",
       " (-0.035975656129045117, 'Women, The (1939)'),\n",
       " (-0.035953147306115686, \"What's Eating Gilbert Grape (1993)\"),\n",
       " (-0.035854620041910285, 'Legends of the Fall (1994)'),\n",
       " (-0.035190706041507314, 'Everyone Says I Love You (1996)'),\n",
       " (-0.035131349432276929, 'Maltese Falcon, The (1941)'),\n",
       " (-0.035072966166677426, 'Cinema Paradiso (1988)'),\n",
       " (-0.034830320428416058, 'Lost World: Jurassic Park, The (1997)'),\n",
       " (-0.034757531454045573, 'Mighty Aphrodite (1995)')]"
      ]
     },
     "execution_count": 81,
     "metadata": {},
     "output_type": "execute_result"
    }
   ],
   "source": [
    "import operator;\n",
    "sorted(item_comp, key=operator.itemgetter(0))[:10]"
   ]
  },
  {
   "cell_type": "code",
   "execution_count": 82,
   "metadata": {},
   "outputs": [
    {
     "data": {
      "text/plain": [
       "[(0.00022278062324490729, 'To Cross the Rubicon (1991)'),\n",
       " (0.00020199907888976092, \"Brother's Kiss, A (1997)\"),\n",
       " (0.00015604172997444639, 'Tom and Huck (1995)'),\n",
       " (0.00013888542365372904, 'All Things Fair (1996)'),\n",
       " (0.00012661833868734174, 'Innocents, The (1961)'),\n",
       " (9.412886139281163e-05, 'Reluctant Debutante, The (1958)'),\n",
       " (8.9756015564764049e-05, 'Infinity (1996)'),\n",
       " (8.7181100653360217e-05, 'Rough Magic (1995)'),\n",
       " (5.658774029294733e-05, 'Baton Rouge (1988)'),\n",
       " (5.562500870938808e-05, 'The Deadly Cure (1996)')]"
      ]
     },
     "execution_count": 82,
     "metadata": {},
     "output_type": "execute_result"
    }
   ],
   "source": [
    "sorted(item_comp, key=operator.itemgetter(0), reverse=True)[:10]"
   ]
  },
  {
   "cell_type": "code",
   "execution_count": 83,
   "metadata": {
    "collapsed": true
   },
   "outputs": [],
   "source": [
    "fac1 = movie_pca[1]\n",
    "item_comp = [(f, movies_names.loc[i,'item_name']) for f,i in zip(fac1, indices_item_train)]"
   ]
  },
  {
   "cell_type": "code",
   "execution_count": 84,
   "metadata": {},
   "outputs": [
    {
     "data": {
      "text/plain": [
       "[(-0.044908300483816235, 'Trainspotting (1996)'),\n",
       " (-0.043286358173719633, 'Heavy (1995)'),\n",
       " (-0.040515890020430781, 'Ben-Hur (1959)'),\n",
       " (-0.038260017895498939, 'Swiss Family Robinson (1960)'),\n",
       " (-0.035231077071173983, 'Fog, The (1980)'),\n",
       " (-0.035091961816535559, 'Pump Up the Volume (1990)'),\n",
       " (-0.034415051515388893, 'Rebel Without a Cause (1955)'),\n",
       " (-0.033783304375090507, 'Mr. Smith Goes to Washington (1939)'),\n",
       " (-0.033540125004606146, 'Lost Horizon (1937)'),\n",
       " (-0.032976751763785686, 'Blues Brothers, The (1980)')]"
      ]
     },
     "execution_count": 84,
     "metadata": {},
     "output_type": "execute_result"
    }
   ],
   "source": [
    "sorted(item_comp, key=operator.itemgetter(0))[:10]"
   ]
  },
  {
   "cell_type": "code",
   "execution_count": 85,
   "metadata": {},
   "outputs": [
    {
     "data": {
      "text/plain": [
       "[(0.10774604447482694, 'In & Out (1997)'),\n",
       " (0.10112485031121665, 'Air Bud (1997)'),\n",
       " (0.0963508666434061, 'Breakdown (1997)'),\n",
       " (0.096026390694110841, 'Game, The (1997)'),\n",
       " (0.094631365382265867, \"Dante's Peak (1997)\"),\n",
       " (0.094507626572563869, 'Jackal, The (1997)'),\n",
       " (0.093791269675655084, 'Lost Highway (1997)'),\n",
       " (0.092500534905404774, 'Chasing Amy (1997)'),\n",
       " (0.091522028475543235, 'Desperate Measures (1998)'),\n",
       " (0.09066202832083857, 'Evita (1996)')]"
      ]
     },
     "execution_count": 85,
     "metadata": {},
     "output_type": "execute_result"
    }
   ],
   "source": [
    "sorted(item_comp, key=operator.itemgetter(0), reverse=True)[:10]"
   ]
  },
  {
   "cell_type": "code",
   "execution_count": 86,
   "metadata": {
    "collapsed": true
   },
   "outputs": [],
   "source": [
    "fac2 = movie_pca[2]"
   ]
  },
  {
   "cell_type": "code",
   "execution_count": 91,
   "metadata": {},
   "outputs": [
    {
     "data": {
      "image/png": "[encoded data removed]",
      "text/plain": [
       "<matplotlib.figure.Figure at 0x7f06bbc5b8d0>"
      ]
     },
     "metadata": {},
     "output_type": "display_data"
    }
   ],
   "source": [
    "start=50; end=100\n",
    "X = fac0[start:end]\n",
    "Y = fac2[start:end]\n",
    "plt.figure(figsize=(15,15))\n",
    "plt.scatter(X, Y)\n",
    "for i, x, y in zip(indices_item_train[start:end], X, Y):\n",
    "    plt.text(x,y,movies_names.loc[i,'item_name'], color=np.random.rand(3)*0.7, fontsize=14)\n",
    "plt.show()"
   ]
  },
  {
   "cell_type": "markdown",
   "metadata": {},
   "source": [
    "## Exercise\n",
    "\n",
    "Previous analysis is not very convincing. Redo it with the dataset ml-latest-small.zip\n",
    "\n",
    "This dataset contains much more movies and less users. Each user rated at least 20 movies.\n",
    "\n",
    "To make the analysis of the factors more interesting, restrict it to the top 2000 most popular movies.\n",
    "\n",
    "You should obtain something like:\n",
    "\n",
    "![PCA movies](pca_movies.png)"
   ]
  },
  {
   "cell_type": "markdown",
   "metadata": {},
   "source": [
    "# 3. Neural Net (MLP)"
   ]
  },
  {
   "cell_type": "code",
   "execution_count": 92,
   "metadata": {
    "collapsed": true
   },
   "outputs": [],
   "source": [
    "import models; imp.reload(models)\n",
    "from models import DeepModel\n",
    "import ExplicitFactorizationModel; imp.reload(ExplicitFactorizationModel)\n",
    "from ExplicitFactorizationModel import ExplicitFactorizationModel\n",
    "from torch_utils import l1_loss\n",
    "\n",
    "model_deep = ExplicitFactorizationModel(embedding_dim=30,  # latent dimensionality\n",
    "                                   n_iter=10,  # number of epochs of training\n",
    "                                   batch_size=64,  # minibatch size\n",
    "                                   learning_rate=1e-3,\n",
    "                                   l2=0,  # strength of L2 regularization\n",
    "                                   use_cuda=torch.cuda.is_available(),\n",
    "                                   num_users=total_user_id+1,\n",
    "                                   num_items=total_item_id+1,\n",
    "                                   net=DeepModel(total_user_id+1,total_item_id+1,30),\n",
    "                                       loss=l1_loss)"
   ]
  },
  {
   "cell_type": "code",
   "execution_count": 93,
   "metadata": {},
   "outputs": [
    {
     "name": "stdout",
     "output_type": "stream",
     "text": [
      "Epoch 0: train loss 1.004701142835617 validation loss 0.923172652721405\n",
      "Epoch 1: train loss 0.9199592028141022 validation loss 0.9158885478973389\n",
      "Epoch 2: train loss 0.9139914298057557 validation loss 0.9112852811813354\n",
      "Epoch 3: train loss 0.9120474348545075 validation loss 0.9111989736557007\n",
      "Epoch 4: train loss 0.9102239940643311 validation loss 0.9086740612983704\n",
      "Epoch 5: train loss 0.9098483894348145 validation loss 0.9092984795570374\n",
      "Epoch 6: train loss 0.9082104542732239 validation loss 0.9061316847801208\n",
      "Epoch 7: train loss 0.9076204085350037 validation loss 0.9078764319419861\n",
      "Epoch 8: train loss 0.906849817276001 validation loss 0.909491777420044\n",
      "Epoch 9: train loss 0.9068227844715119 validation loss 0.9110423922538757\n"
     ]
    }
   ],
   "source": [
    "model_deep.fit(user_ids_train_np, item_ids_train_np, ratings_train_np,\n",
    "          user_ids_test_np, item_ids_test_np, ratings_test_np)"
   ]
  },
  {
   "cell_type": "code",
   "execution_count": 94,
   "metadata": {},
   "outputs": [
    {
     "name": "stdout",
     "output_type": "stream",
     "text": [
      "Final test MSE: 0.936\n",
      "Final test MAE: 0.740\n"
     ]
    }
   ],
   "source": [
    "from sklearn.metrics import mean_squared_error\n",
    "from sklearn.metrics import mean_absolute_error\n",
    "\n",
    "test_preds = model.predict(user_ids_test_np, item_ids_test_np)\n",
    "print(\"Final test MSE: %0.3f\" % mean_squared_error(test_preds, rating_test))\n",
    "print(\"Final test MAE: %0.3f\" % mean_absolute_error(test_preds, rating_test))"
   ]
  },
  {
   "cell_type": "code",
   "execution_count": 95,
   "metadata": {},
   "outputs": [
    {
     "name": "stdout",
     "output_type": "stream",
     "text": [
      "Final test MSE: 1.480\n",
      "Final test MAE: 0.909\n"
     ]
    }
   ],
   "source": [
    "test_preds_deep = model_deep.predict(user_ids_test_np, item_ids_test_np)\n",
    "print(\"Final test MSE: %0.3f\" % mean_squared_error(test_preds_deep, rating_test))\n",
    "print(\"Final test MAE: %0.3f\" % mean_absolute_error(test_preds_deep, rating_test))"
   ]
  },
  {
   "cell_type": "code",
   "execution_count": 96,
   "metadata": {},
   "outputs": [
    {
     "name": "stdout",
     "output_type": "stream",
     "text": [
      "DeepModel (\n",
      "  (user_embeddings): Embedding(944, 30)\n",
      "  (item_embeddings): Embedding(1683, 30)\n",
      "  (fc1): Linear (60 -> 64)\n",
      "  (fc2): Linear (64 -> 32)\n",
      "  (fcf): Linear (32 -> 1)\n",
      ")\n"
     ]
    }
   ],
   "source": [
    "print(model_deep._net)"
   ]
  },
  {
   "cell_type": "markdown",
   "metadata": {},
   "source": [
    "## Exercise\n",
    "\n",
    "Add another layer and compare."
   ]
  },
  {
   "cell_type": "markdown",
   "metadata": {},
   "source": [
    "### Finding most similar items\n",
    "Finding k most similar items to a point in embedding space\n",
    "\n",
    "- Write in numpy a function to compute the [cosine similarity](https://en.wikipedia.org/wiki/Cosine_similarity) between two points in embedding space\n",
    "- Write a function which computes the euclidean distance between a point in embedding space and all other points\n",
    "- Write a most similar function, which returns the k item names with lowest euclidean distance / highest cosine similarity.\n",
    "- Try with a movie index, such as 181 (Return of the Jedi). What do you observe? Don't expect miracles on such a small training set but still give your results on the forum!\n",
    "\n",
    "Notes:\n",
    "- you may use `np.linalg.norm` to compute the norm of vector, and you may specify the `axis=`\n",
    "- the numpy function `np.argsort(...)` enables to compute the sorted indices of a vector"
   ]
  },
  {
   "cell_type": "markdown",
   "metadata": {},
   "source": [
    "## 4. Implicit Feedback"
   ]
  },
  {
   "cell_type": "markdown",
   "metadata": {},
   "source": [
    "## The Triplet Loss\n",
    "\n",
    "The following section demonstrates how to build a recommender system when only positive feedbacks are availables.\n",
    "\n",
    "The similarity score between a user and an item is defined by the unormalized dot products of their respective embeddings.\n",
    "\n",
    "The matching scores can be use to rank items to recommend to a specific user.\n",
    "\n",
    "Training of the model parameters is achieved by randomly sampling negative items not seen by a pre-selected anchor user. We want the model embedding matrices to be such that the similarity between the user vector and the negative vector is smaller than the similarity between the user vector and the positive item vector. Furthermore we use a margin to further move appart the negative from the anchor user.\n",
    "\n",
    "Here is the architecture of such a triplet architecture. The triplet name comes from the fact that the loss to optimize is defined for triple `(anchor_user, positive_item, negative_item)`:\n",
    "\n",
    "<img src=\"rec_archi_implicit_2.svg\" style=\"width: 600px;\" />\n",
    "\n",
    "We call this model a triplet model with bi-linear interactions because the similarity between a user and an item is captured by a dot product of the first level embedding vectors. This is therefore not a deep architecture."
   ]
  },
  {
   "cell_type": "code",
   "execution_count": 99,
   "metadata": {},
   "outputs": [
    {
     "data": {
      "text/html": [
       "<div>\n",
       "<style>\n",
       "    .dataframe thead tr:only-child th {\n",
       "        text-align: right;\n",
       "    }\n",
       "\n",
       "    .dataframe thead th {\n",
       "        text-align: left;\n",
       "    }\n",
       "\n",
       "    .dataframe tbody tr th {\n",
       "        vertical-align: top;\n",
       "    }\n",
       "</style>\n",
       "<table border=\"1\" class=\"dataframe\">\n",
       "  <thead>\n",
       "    <tr style=\"text-align: right;\">\n",
       "      <th></th>\n",
       "      <th>user_id</th>\n",
       "      <th>item_id</th>\n",
       "      <th>rating</th>\n",
       "      <th>timestamp</th>\n",
       "    </tr>\n",
       "  </thead>\n",
       "  <tbody>\n",
       "    <tr>\n",
       "      <th>count</th>\n",
       "      <td>90570.000000</td>\n",
       "      <td>90570.000000</td>\n",
       "      <td>90570.000000</td>\n",
       "      <td>9.057000e+04</td>\n",
       "    </tr>\n",
       "    <tr>\n",
       "      <th>mean</th>\n",
       "      <td>461.494038</td>\n",
       "      <td>428.104891</td>\n",
       "      <td>3.523827</td>\n",
       "      <td>8.835073e+08</td>\n",
       "    </tr>\n",
       "    <tr>\n",
       "      <th>std</th>\n",
       "      <td>266.004364</td>\n",
       "      <td>333.088029</td>\n",
       "      <td>1.126073</td>\n",
       "      <td>5.341684e+06</td>\n",
       "    </tr>\n",
       "    <tr>\n",
       "      <th>min</th>\n",
       "      <td>1.000000</td>\n",
       "      <td>1.000000</td>\n",
       "      <td>1.000000</td>\n",
       "      <td>8.747247e+08</td>\n",
       "    </tr>\n",
       "    <tr>\n",
       "      <th>25%</th>\n",
       "      <td>256.000000</td>\n",
       "      <td>174.000000</td>\n",
       "      <td>3.000000</td>\n",
       "      <td>8.794484e+08</td>\n",
       "    </tr>\n",
       "    <tr>\n",
       "      <th>50%</th>\n",
       "      <td>442.000000</td>\n",
       "      <td>324.000000</td>\n",
       "      <td>4.000000</td>\n",
       "      <td>8.828143e+08</td>\n",
       "    </tr>\n",
       "    <tr>\n",
       "      <th>75%</th>\n",
       "      <td>682.000000</td>\n",
       "      <td>636.000000</td>\n",
       "      <td>4.000000</td>\n",
       "      <td>8.882049e+08</td>\n",
       "    </tr>\n",
       "    <tr>\n",
       "      <th>max</th>\n",
       "      <td>943.000000</td>\n",
       "      <td>1682.000000</td>\n",
       "      <td>5.000000</td>\n",
       "      <td>8.932866e+08</td>\n",
       "    </tr>\n",
       "  </tbody>\n",
       "</table>\n",
       "</div>"
      ],
      "text/plain": [
       "            user_id       item_id        rating     timestamp\n",
       "count  90570.000000  90570.000000  90570.000000  9.057000e+04\n",
       "mean     461.494038    428.104891      3.523827  8.835073e+08\n",
       "std      266.004364    333.088029      1.126073  5.341684e+06\n",
       "min        1.000000      1.000000      1.000000  8.747247e+08\n",
       "25%      256.000000    174.000000      3.000000  8.794484e+08\n",
       "50%      442.000000    324.000000      4.000000  8.828143e+08\n",
       "75%      682.000000    636.000000      4.000000  8.882049e+08\n",
       "max      943.000000   1682.000000      5.000000  8.932866e+08"
      ]
     },
     "execution_count": 99,
     "metadata": {},
     "output_type": "execute_result"
    }
   ],
   "source": [
    "data_train = pd.read_csv(op.join(ML_100K_FOLDER, 'ua.base'), sep='\\t',\n",
    "                        names=[\"user_id\", \"item_id\", \"rating\", \"timestamp\"])\n",
    "data_test = pd.read_csv(op.join(ML_100K_FOLDER, 'ua.test'), sep='\\t',\n",
    "                        names=[\"user_id\", \"item_id\", \"rating\", \"timestamp\"])\n",
    "\n",
    "data_train.describe()"
   ]
  },
  {
   "cell_type": "markdown",
   "metadata": {},
   "source": [
    "We consider ratings >= 4 as positive feed back and ignore the rest."
   ]
  },
  {
   "cell_type": "code",
   "execution_count": 100,
   "metadata": {
    "collapsed": true
   },
   "outputs": [],
   "source": [
    "pos_data_train = data_train.query(\"rating >= 4\")\n",
    "pos_data_test = data_test.query(\"rating >= 4\")"
   ]
  },
  {
   "cell_type": "code",
   "execution_count": 101,
   "metadata": {},
   "outputs": [
    {
     "data": {
      "text/plain": [
       "49906"
      ]
     },
     "execution_count": 101,
     "metadata": {},
     "output_type": "execute_result"
    }
   ],
   "source": [
    "pos_data_train['rating'].count()"
   ]
  },
  {
   "cell_type": "code",
   "execution_count": 102,
   "metadata": {},
   "outputs": [
    {
     "data": {
      "text/plain": [
       "5469"
      ]
     },
     "execution_count": 102,
     "metadata": {},
     "output_type": "execute_result"
    }
   ],
   "source": [
    "pos_data_test['rating'].count()"
   ]
  },
  {
   "cell_type": "code",
   "execution_count": 103,
   "metadata": {
    "collapsed": true
   },
   "outputs": [],
   "source": [
    "pos_user_train_np = pos_data_train['user_id'].as_matrix().astype(np.int32)\n",
    "pos_item_train_np = pos_data_train['item_id'].as_matrix().astype(np.int32)\n",
    "user_train_np = data_train['user_id'].as_matrix().astype(np.int32)\n",
    "item_train_np = data_train['item_id'].as_matrix().astype(np.int32)\n",
    "rating_train_np = data_train['rating'].as_matrix().astype(np.float32)\n",
    "user_test_np = data_test['user_id'].as_matrix().astype(np.int32)\n",
    "item_test_np = data_test['item_id'].as_matrix().astype(np.int32)\n",
    "rating_test_np = data_test['rating'].as_matrix().astype(np.float32)"
   ]
  },
  {
   "cell_type": "code",
   "execution_count": 104,
   "metadata": {
    "collapsed": true
   },
   "outputs": [],
   "source": [
    "import torch_utils; imp.reload(torch_utils)\n",
    "import ImplicitFactorizationModel; imp.reload(ImplicitFactorizationModel)\n",
    "from ImplicitFactorizationModel import ImplicitFactorizationModel"
   ]
  },
  {
   "cell_type": "markdown",
   "metadata": {},
   "source": [
    "## Exercise\n",
    "\n",
    "You will need to complete some pieces of code in the ImplicitFactorizationModel.py file in order to run the rest of this notebook."
   ]
  },
  {
   "cell_type": "code",
   "execution_count": 105,
   "metadata": {
    "collapsed": true
   },
   "outputs": [],
   "source": [
    "model_triplet = ImplicitFactorizationModel(embedding_dim=128,  # latent dimensionality\n",
    "                                   n_iter=1,  # number of epochs of training\n",
    "                                   batch_size=1024,  # minibatch size\n",
    "                                   learning_rate=0,\n",
    "                                   l2=1e-9,  # strength of L2 regularization\n",
    "                                   use_cuda=torch.cuda.is_available(),\n",
    "                                   num_users=total_user_id+1,\n",
    "                                   num_items=total_item_id+1)"
   ]
  },
  {
   "cell_type": "code",
   "execution_count": 106,
   "metadata": {},
   "outputs": [
    {
     "name": "stdout",
     "output_type": "stream",
     "text": [
      "Epoch 0: train loss 1.0000049094764554\n"
     ]
    }
   ],
   "source": [
    "model_triplet.fit(pos_user_train_np,pos_item_train_np)"
   ]
  },
  {
   "cell_type": "markdown",
   "metadata": {},
   "source": [
    "## Quality of Ranked Recommendations\n",
    "\n",
    "Now that we have a randomly initialized model we can start computing random recommendations. To assess their quality we do the following for each user:\n",
    "\n",
    "- compute matching scores for items (except the movies that the user has already seen in the training set),\n",
    "- compare to the positive feedback actually collected on the test set using the [ROC AUC ranking metric](http://scikit-learn.org/stable/modules/model_evaluation.html#roc-metrics),\n",
    "- average ROC AUC scores across users to get the average performance of the recommender model on the test set."
   ]
  },
  {
   "cell_type": "code",
   "execution_count": 107,
   "metadata": {
    "collapsed": true
   },
   "outputs": [],
   "source": [
    "from sklearn.metrics import roc_auc_score\n",
    "\n",
    "\n",
    "def average_roc_auc(model, data_train, data_test):\n",
    "    \"\"\"Compute the ROC AUC for each user and average over users\"\"\"\n",
    "    max_user_id = max(data_train['user_id'].max(), data_test['user_id'].max())\n",
    "    max_item_id = max(data_train['item_id'].max(), data_test['item_id'].max())\n",
    "    user_auc_scores = []\n",
    "    for user_id in range(1, max_user_id + 1):\n",
    "        pos_item_train = data_train[data_train['user_id'] == user_id]\n",
    "        pos_item_test = data_test[data_test['user_id'] == user_id]\n",
    "        \n",
    "        # Consider all the items already seen in the training set\n",
    "        all_item_ids = np.arange(1, max_item_id + 1)\n",
    "        items_to_rank = np.setdiff1d(all_item_ids, pos_item_train['item_id'].values)\n",
    "        \n",
    "        # Ground truth: return 1 for each item positively present in the test set\n",
    "        # and 0 otherwise.\n",
    "        expected = np.in1d(items_to_rank, pos_item_test['item_id'].values)\n",
    "        \n",
    "        if np.sum(expected) >= 1:\n",
    "            # At least one positive test value to rank\n",
    "            repeated_user_id = np.empty_like(items_to_rank)\n",
    "            repeated_user_id.fill(user_id)\n",
    "\n",
    "            predicted = model.predict(repeated_user_id, items_to_rank)\n",
    "            user_auc_scores.append(roc_auc_score(expected, predicted))\n",
    "\n",
    "    return sum(user_auc_scores) / len(user_auc_scores)"
   ]
  },
  {
   "cell_type": "code",
   "execution_count": 108,
   "metadata": {},
   "outputs": [
    {
     "data": {
      "text/plain": [
       "0.50538861083660758"
      ]
     },
     "execution_count": 108,
     "metadata": {},
     "output_type": "execute_result"
    }
   ],
   "source": [
    "average_roc_auc(model_triplet, pos_data_train, pos_data_test)"
   ]
  },
  {
   "cell_type": "code",
   "execution_count": 109,
   "metadata": {
    "collapsed": true
   },
   "outputs": [],
   "source": [
    "model_triplet = ImplicitFactorizationModel(embedding_dim=128,  # latent dimensionality\n",
    "                                   n_iter=15,  # number of epochs of training\n",
    "                                   batch_size=1024,  # minibatch size\n",
    "                                   learning_rate=1e-3,\n",
    "                                   l2=1e-9,  # strength of L2 regularization\n",
    "                                   use_cuda=torch.cuda.is_available(),\n",
    "                                   num_users=total_user_id+1,\n",
    "                                   num_items=total_item_id+1)"
   ]
  },
  {
   "cell_type": "code",
   "execution_count": 110,
   "metadata": {},
   "outputs": [
    {
     "name": "stdout",
     "output_type": "stream",
     "text": [
      "Epoch 0: train loss 0.9823946271623883\n",
      "Epoch 1: train loss 0.8564361942057707\n",
      "Epoch 2: train loss 0.4616966478678645\n",
      "Epoch 3: train loss 0.36813849818949795\n",
      "Epoch 4: train loss 0.34802813128549226\n",
      "Epoch 5: train loss 0.3301108856590427\n",
      "Epoch 6: train loss 0.3178681208162892\n",
      "Epoch 7: train loss 0.30968122153866046\n",
      "Epoch 8: train loss 0.29373539771352497\n",
      "Epoch 9: train loss 0.28728836714004985\n",
      "Epoch 10: train loss 0.2740917297042146\n",
      "Epoch 11: train loss 0.2633976839026626\n",
      "Epoch 12: train loss 0.25793141978127615\n",
      "Epoch 13: train loss 0.2510903413806643\n",
      "Epoch 14: train loss 0.24905629973022306\n"
     ]
    }
   ],
   "source": [
    "model_triplet.fit(pos_user_train_np,pos_item_train_np)"
   ]
  },
  {
   "cell_type": "code",
   "execution_count": 111,
   "metadata": {},
   "outputs": [
    {
     "name": "stdout",
     "output_type": "stream",
     "text": [
      "Final test MSE: 7.715\n",
      "Final test MAE: 2.551\n"
     ]
    }
   ],
   "source": [
    "test_preds = model_triplet.predict(user_test_np, item_test_np)\n",
    "print(\"Final test MSE: %0.3f\" % mean_squared_error(test_preds, rating_test_np))\n",
    "print(\"Final test MAE: %0.3f\" % mean_absolute_error(test_preds, rating_test_np))"
   ]
  },
  {
   "cell_type": "code",
   "execution_count": 112,
   "metadata": {},
   "outputs": [
    {
     "name": "stdout",
     "output_type": "stream",
     "text": [
      "Final test MSE: 7.642\n",
      "Final test MAE: 2.561\n"
     ]
    }
   ],
   "source": [
    "train_preds = model_triplet.predict(user_train_np, item_train_np)\n",
    "print(\"Final test MSE: %0.3f\" % mean_squared_error(train_preds, rating_train_np))\n",
    "print(\"Final test MAE: %0.3f\" % mean_absolute_error(train_preds, rating_train_np))"
   ]
  },
  {
   "cell_type": "code",
   "execution_count": 113,
   "metadata": {},
   "outputs": [
    {
     "data": {
      "text/plain": [
       "0.91938412414258475"
      ]
     },
     "execution_count": 113,
     "metadata": {},
     "output_type": "execute_result"
    }
   ],
   "source": [
    "average_roc_auc(model_triplet, pos_data_train, pos_data_test)"
   ]
  },
  {
   "cell_type": "markdown",
   "metadata": {
    "collapsed": true
   },
   "source": [
    "## Exercise: Training a Deep Matching Model on Implicit Feedback\n",
    "\n",
    "\n",
    "Instead of using hard-coded cosine similarities to predict the match of a `(user_id, item_id)` pair, we can instead specify a deep neural network based parametrisation of the similarity. The parameters of that matching model are also trained with the margin comparator loss:\n",
    "\n",
    "<img src=\"rec_archi_implicit_1.svg\" style=\"width: 600px;\" />\n",
    "\n",
    "Code such a deep model and evaluate it."
   ]
  },
  {
   "cell_type": "code",
   "execution_count": null,
   "metadata": {
    "collapsed": true
   },
   "outputs": [],
   "source": []
  }
 ],
 "metadata": {
  "kernelspec": {
   "display_name": "Python [default]",
   "language": "python",
   "name": "python3"
  },
  "language_info": {
   "codemirror_mode": {
    "name": "ipython",
    "version": 3
   },
   "file_extension": ".py",
   "mimetype": "text/x-python",
   "name": "python",
   "nbconvert_exporter": "python",
   "pygments_lexer": "ipython3",
   "version": "3.6.1"
  }
 },
 "nbformat": 4,
 "nbformat_minor": 2
}
