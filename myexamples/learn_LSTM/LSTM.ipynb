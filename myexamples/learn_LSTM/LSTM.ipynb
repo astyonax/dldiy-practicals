{
 "cells": [
  {
   "cell_type": "code",
   "execution_count": 20,
   "metadata": {},
   "outputs": [
    {
     "name": "stdout",
     "output_type": "stream",
     "text": [
      "Populating the interactive namespace from numpy and matplotlib\n"
     ]
    }
   ],
   "source": [
    "%pylab inline\n",
    "import pandas as pd\n",
    "from torch.autograd import Variable\n",
    "from torch import nn\n",
    "import torch"
   ]
  },
  {
   "cell_type": "code",
   "execution_count": 21,
   "metadata": {},
   "outputs": [],
   "source": [
    "DATA_DIR = \"/home/astyonax/Projects/PostDoc/Paris/Traffic/data/\""
   ]
  },
  {
   "cell_type": "code",
   "execution_count": 22,
   "metadata": {},
   "outputs": [],
   "source": [
    "#simplified data\n",
    "data = pd.read_hdf(DATA_DIR+'/aggregates.hdf')\n",
    "data['timestep']=data.hour+data.month*100\n",
    "data = data.sort_values(by='timestep')"
   ]
  },
  {
   "cell_type": "code",
   "execution_count": 23,
   "metadata": {},
   "outputs": [
    {
     "data": {
      "text/plain": [
       "<matplotlib.axes._subplots.AxesSubplot at 0x7f839897b990>"
      ]
     },
     "execution_count": 23,
     "metadata": {},
     "output_type": "execute_result"
    },
    {
     "data": {
      "image/png": "[encoded data removed]",
      "text/plain": [
       "<matplotlib.figure.Figure at 0x7f83991d5e50>"
      ]
     },
     "metadata": {},
     "output_type": "display_data"
    }
   ],
   "source": [
    "data.groupby('id_arc_trafic').agg('count')['timestep'].hist()"
   ]
  },
  {
   "cell_type": "markdown",
   "metadata": {},
   "source": [
    "Not every counter worked all the time as the others. We remove them from the dataset"
   ]
  },
  {
   "cell_type": "code",
   "execution_count": 24,
   "metadata": {},
   "outputs": [],
   "source": [
    "how_long = data.groupby('id_arc_trafic',as_index=False).agg('count')[['id_arc_trafic','timestep']]\n",
    "how_long.columns=['id_arc_trafic','how_long']\n",
    "which_id_arc_trafic = how_long[how_long.how_long==288].id_arc_trafic.values"
   ]
  },
  {
   "cell_type": "code",
   "execution_count": 25,
   "metadata": {},
   "outputs": [],
   "source": [
    "def filter_id_arc_trafic(j):\n",
    "    if j in which_id_arc_trafic:\n",
    "        return 1\n",
    "    return 0\n",
    "data['filtered'] = data.id_arc_trafic.apply(filter_id_arc_trafic)"
   ]
  },
  {
   "cell_type": "code",
   "execution_count": 26,
   "metadata": {},
   "outputs": [],
   "source": [
    "filtered = data[data.filtered==1]"
   ]
  },
  {
   "cell_type": "code",
   "execution_count": 27,
   "metadata": {},
   "outputs": [],
   "source": [
    "time_series = [j[1]['AVG(debit)'].values for j in filtered.groupby('timestep')]"
   ]
  },
  {
   "cell_type": "code",
   "execution_count": 54,
   "metadata": {},
   "outputs": [
    {
     "name": "stdout",
     "output_type": "stream",
     "text": [
      "(288, 2871)\n"
     ]
    }
   ],
   "source": [
    "l = [len(ts) for ts in time_series]\n",
    "time_series = np.asarray(time_series)\n",
    "print time_series.shape\n",
    "np.save(open('data/time_series_traffic_paris.npy','w'),time_series)"
   ]
  },
  {
   "cell_type": "markdown",
   "metadata": {},
   "source": [
    "# Machine learning begins here\n",
    "time series is a 288 steps by 2871 features (or coins) array.\n",
    "\n",
    "This particular data is coming from a simplified array of paris traffic.. just to play w/ something I know"
   ]
  },
  {
   "cell_type": "code",
   "execution_count": 29,
   "metadata": {},
   "outputs": [],
   "source": [
    "from sklearn.preprocessing import RobustScaler\n",
    "\n",
    "scaler = RobustScaler()\n",
    "Q = scaler.fit_transform(time_series)"
   ]
  },
  {
   "cell_type": "code",
   "execution_count": 30,
   "metadata": {},
   "outputs": [],
   "source": [
    "W = 6\n",
    "\n",
    "def batch_gen(data,batch_size=32,shuffle=True,window_size=W):\n",
    "    \n",
    "    #~ win creat\n",
    "    ws = window_size\n",
    "    windows = [[data[i+n] for i in range(0, len(data)-1-ws, ws)] for n in range(ws)]\n",
    "    windows = np.asarray(windows).transpose(1,0,-1)\n",
    "    #~\n",
    "    if shuffle:\n",
    "        index = np.random.permutation(windows.shape[0])\n",
    "        windows = windows[index,:]\n",
    "    #~\n",
    "    windows = Variable(torch.from_numpy(windows.astype(np.float32)))\n",
    "    for idx in range(0,windows.size(0),batch_size):\n",
    "        outin = windows[idx:idx+batch_size]\n",
    "        x = outin[:,:-1]\n",
    "        y = outin[:,-1]\n",
    "        yield x,y"
   ]
  },
  {
   "cell_type": "code",
   "execution_count": 31,
   "metadata": {},
   "outputs": [
    {
     "data": {
      "text/plain": [
       "(torch.Size([32, 5, 2871]), torch.Size([32, 2871]))"
      ]
     },
     "execution_count": 31,
     "metadata": {},
     "output_type": "execute_result"
    }
   ],
   "source": [
    "x,y = next(batch_gen(Q))\n",
    "x.size(),y.size()"
   ]
  },
  {
   "cell_type": "code",
   "execution_count": 78,
   "metadata": {},
   "outputs": [],
   "source": [
    "class new_RNN(nn.Module):\n",
    "    def __init__(self, inout_dim, hidden_dim =256, lr = 0.001):\n",
    "        super(new_RNN, self).__init__()\n",
    "        \n",
    "        self._inout_dim = inout_dim\n",
    "        self._hidden_dim = hidden_dim\n",
    "        self.lin_in = nn.Linear(inout_dim,hidden_dim)\n",
    "        self.cell = nn.LSTM(input_size=hidden_dim, hidden_size=hidden_dim, batch_first=True)\n",
    "        self.lin_out = nn.Linear(hidden_dim,inout_dim)\n",
    "        \n",
    "        # functions\n",
    "        self.__lr = lr\n",
    "        self.loss = nn.MSELoss()\n",
    "        self.optimizer = self.__init_optimizer()\n",
    "#         self.activation = torch.nn.Activation('linear')\n",
    "        \n",
    "    def forward(self, c):\n",
    "        hidden = (Variable(torch.randn(1,1,self._hidden_dim)),\n",
    "                  Variable(torch.randn(1,1,self._hidden_dim)))\n",
    "        \n",
    "        output = self.lin_in(c)\n",
    "        output,hidden = self.cell(output,hidden)\n",
    "        output = self.lin_out(output)\n",
    "        output = output.max(dim=1)[0]\n",
    "#         output = self.activation(output)\n",
    "        return output\n",
    "        \n",
    "    @property\n",
    "    def lr(self):\n",
    "        return self.__lr\n",
    "    \n",
    "    @lr.setter\n",
    "    def lr(self,new_lr):\n",
    "        self.__lr = new_lr\n",
    "        self.optimizer = self.__init_optimizer()\n",
    "    \n",
    "    def __init_optimizer(self):\n",
    "        return torch.optim.SGD(self.parameters(),lr = self.__lr,momentum=.9,weight_decay=1e-3,nesterov=True)"
   ]
  },
  {
   "cell_type": "code",
   "execution_count": 79,
   "metadata": {},
   "outputs": [
    {
     "name": "stdout",
     "output_type": "stream",
     "text": [
      "torch.Size([32, 5, 2871])\n"
     ]
    }
   ],
   "source": [
    "print x.size()"
   ]
  },
  {
   "cell_type": "code",
   "execution_count": 83,
   "metadata": {},
   "outputs": [],
   "source": [
    "\n",
    "try:\n",
    "    raise IOError\n",
    "    rnn = torch.load('rnn.pth')\n",
    "    print('loaded rnn from file')\n",
    "    \n",
    "except IOError:\n",
    "    rnn = new_RNN(x.size(-1),hidden_dim=2**8)"
   ]
  },
  {
   "cell_type": "code",
   "execution_count": 84,
   "metadata": {},
   "outputs": [
    {
     "data": {
      "text/plain": [
       "torch.Size([32, 2871])"
      ]
     },
     "execution_count": 84,
     "metadata": {},
     "output_type": "execute_result"
    }
   ],
   "source": [
    "rnn(x).size()"
   ]
  },
  {
   "cell_type": "code",
   "execution_count": 94,
   "metadata": {},
   "outputs": [],
   "source": [
    "np2y= lambda x:Variable(torch.from_numpy(x.astype(np.float32))).unsqueeze(0)\n",
    "def validate(Q,model,W):\n",
    "    real = []\n",
    "    pred = []\n",
    "    model.eval()\n",
    "    for i in xrange(W,Q.shape[0]-1):\n",
    "        t0 = Q[i-W:i]\n",
    "        t1 = Q[i]\n",
    "        t1_pred = model(np2y(t0)).squeeze().data.numpy()\n",
    "        \n",
    "        real.append(scaler.inverse_transform(t1.reshape(1,-1)).mean())\n",
    "        pred.append(scaler.inverse_transform(t1_pred.reshape(1,-1)).mean())\n",
    "    \n",
    "    real = np.asarray(real)\n",
    "    pred = np.asarray(pred)\n",
    "    \n",
    "    MSEscore = np.sum((real-pred)**2)**.5\n",
    "    \n",
    "    return MSEscore,{'real':real,'pred':pred}\n",
    "\n",
    "def new_train_model(batches_gen,data,model,epochs=1000,train=True,ev=1,window_size=W):\n",
    "    if train:\n",
    "        model.train()\n",
    "    else:\n",
    "        model.eval()\n",
    "        \n",
    "    for epoch in range(epochs):\n",
    "        batches = batches_gen(data,window_size=window_size)\n",
    "        running_loss = 0.0\n",
    "    \n",
    "        for x,y in batches:\n",
    "            out = model(x)\n",
    "            loss = model.loss(out,y)\n",
    "            model.zero_grad()\n",
    "            loss.backward()\n",
    "            model.optimizer.step()\n",
    "            \n",
    "            running_loss += loss.data[0]\n",
    "            \n",
    "        if epoch%ev==0 or epoch == epochs-1:\n",
    "            \n",
    "            epoch_loss = running_loss\n",
    "            print('{0:d} {1:e} {2:e}'.format(epoch,epoch_loss,validate(Q,model,window_size)))            "
   ]
  },
  {
   "cell_type": "code",
   "execution_count": null,
   "metadata": {},
   "outputs": [],
   "source": [
    "rnn.lr=0.1\n",
    "new_train_model(batch_gen,Q,rnn,epochs=3000,ev=500,window_size=W)"
   ]
  },
  {
   "cell_type": "code",
   "execution_count": null,
   "metadata": {},
   "outputs": [],
   "source": [
    "# print (y.size(),\n",
    "#        y.unsqueeze(1).size())"
   ]
  },
  {
   "cell_type": "code",
   "execution_count": 32,
   "metadata": {},
   "outputs": [
    {
     "name": "stdout",
     "output_type": "stream",
     "text": [
      "-rw-r--r-- 1 astyonax astyonax 39M Jan  2 13:13 rnn.pth\r\n"
     ]
    }
   ],
   "source": [
    "torch.save(rnn,'rnn.pth')\n",
    "!ls rnn.pth -lthr"
   ]
  },
  {
   "cell_type": "markdown",
   "metadata": {},
   "source": [
    "## Plot Validation"
   ]
  },
  {
   "cell_type": "code",
   "execution_count": 97,
   "metadata": {},
   "outputs": [],
   "source": [
    "real = []\n",
    "pred = []\n",
    "rnn.eval()\n",
    "time = range(W,Q.shape[0]-1)\n",
    "for i in time:\n",
    "    t0 = Q[i-W:i]\n",
    "    t1 = Q[i]\n",
    "    t1_pred = rnn(np2y(t0)).squeeze().data.numpy()\n",
    "        \n",
    "#     print t1.mean(),t1_pred.mean()\n",
    "    real.append(scaler.inverse_transform(t1.reshape(1,-1)).mean())\n",
    "    pred.append(scaler.inverse_transform(t1_pred.reshape(1,-1)).mean())"
   ]
  },
  {
   "cell_type": "code",
   "execution_count": 98,
   "metadata": {},
   "outputs": [
    {
     "data": {
      "text/plain": [
       "[<matplotlib.lines.Line2D at 0x7f83a3f84f10>]"
      ]
     },
     "execution_count": 98,
     "metadata": {},
     "output_type": "execute_result"
    },
    {
     "data": {
      "image/png": "[encoded data removed]",
      "text/plain": [
       "<matplotlib.figure.Figure at 0x7f83a3f84fd0>"
      ]
     },
     "metadata": {},
     "output_type": "display_data"
    }
   ],
   "source": [
    "plt.plot(time,real)\n",
    "plt.plot(time,pred,'r')"
   ]
  },
  {
   "cell_type": "code",
   "execution_count": 99,
   "metadata": {},
   "outputs": [
    {
     "data": {
      "text/plain": [
       "2352.6941820241918"
      ]
     },
     "execution_count": 99,
     "metadata": {},
     "output_type": "execute_result"
    }
   ],
   "source": [
    "validate(Q,rnn,W)[0]"
   ]
  },
  {
   "cell_type": "code",
   "execution_count": 100,
   "metadata": {},
   "outputs": [],
   "source": [
    "rnn = torch.load('rnn.pth')"
   ]
  },
  {
   "cell_type": "code",
   "execution_count": 89,
   "metadata": {},
   "outputs": [],
   "source": [
    "real = []\n",
    "pred = []\n",
    "rnn.eval()\n",
    "w= 6\n",
    "time = range(w,Q.shape[0]-1)\n",
    "for i in time:\n",
    "    t0 = Q[i-w:i]\n",
    "    t1 = Q[i]\n",
    "    t1_pred = rnn(np2y(t0)).squeeze().data.numpy()\n",
    "        \n",
    "#     print t1.mean(),t1_pred.mean()\n",
    "    real.append(scaler.inverse_transform(t1.reshape(1,-1)).squeeze()[100])\n",
    "    pred.append(scaler.inverse_transform(t1_pred.reshape(1,-1)).squeeze()[100])"
   ]
  },
  {
   "cell_type": "code",
   "execution_count": 90,
   "metadata": {},
   "outputs": [
    {
     "data": {
      "text/plain": [
       "[<matplotlib.lines.Line2D at 0x7f83a3fce050>]"
      ]
     },
     "execution_count": 90,
     "metadata": {},
     "output_type": "execute_result"
    },
    {
     "data": {
      "image/png": "[encoded data removed]",
      "text/plain": [
       "<matplotlib.figure.Figure at 0x7f83a3fce110>"
      ]
     },
     "metadata": {},
     "output_type": "display_data"
    }
   ],
   "source": [
    "plt.plot(time,real)\n",
    "plt.plot(time,pred,'r')"
   ]
  },
  {
   "cell_type": "markdown",
   "metadata": {},
   "source": [
    "Above: one prediction on a single counter after 2500 epochs "
   ]
  },
  {
   "cell_type": "code",
   "execution_count": null,
   "metadata": {},
   "outputs": [],
   "source": []
  }
 ],
 "metadata": {
  "kernelspec": {
   "display_name": "Python [conda root]",
   "language": "python",
   "name": "conda-root-py"
  },
  "language_info": {
   "codemirror_mode": {
    "name": "ipython",
    "version": 2
   },
   "file_extension": ".py",
   "mimetype": "text/x-python",
   "name": "python",
   "nbconvert_exporter": "python",
   "pygments_lexer": "ipython2",
   "version": "2.7.14"
  }
 },
 "nbformat": 4,
 "nbformat_minor": 2
}
